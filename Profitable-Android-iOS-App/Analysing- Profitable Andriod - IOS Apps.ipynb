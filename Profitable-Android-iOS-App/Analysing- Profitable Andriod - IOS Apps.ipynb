{
 "cells": [
  {
   "cell_type": "markdown",
   "metadata": {},
   "source": [
    "## Title:\n",
    "\n",
    "Profitiable Andriod and IOS mobile apps for App Store and Google Store \n",
    "\n"
   ]
  },
  {
   "cell_type": "markdown",
   "metadata": {},
   "source": [
    "## Project Aim: \n",
    "\n",
    "Our aim in this project is to build profitable free Andriod and IOS mobile app that will be available on Google play and App store for users to download and install.  "
   ]
  },
  {
   "cell_type": "markdown",
   "metadata": {},
   "source": [
    "## Project Goal: \n",
    "\n",
    "As data analyst working for a company that builds Android and IOS mobile apps, my goal for this project is to analyze data to help developers understand what kind of apps really attract more users."
   ]
  },
  {
   "cell_type": "markdown",
   "metadata": {},
   "source": [
    "## Opening and Exploring of data sets\n",
    "\n",
    "\n",
    "* A [data set](https://www.kaggle.com/lava18/google-play-store-apps) containing data about approximately 10,000 Android apps from Google Play; the data was collected in August 2018. You can download the data set directly from [this link](https://dq-content.s3.amazonaws.com/350/googleplaystore.csv).\n",
    "\n",
    "\n",
    "\n",
    "* A [data set](https://www.kaggle.com/ramamet4/app-store-apple-data-set-10k-apps) containing data about approximately 7,000 iOS apps from the App Store; the data was collected in July 2017. You can download the data set directly from [this link](https://dq-content.s3.amazonaws.com/350/AppleStore.csv).\n",
    "\n",
    "\n",
    " We will start by opening both data sets by using the `open_dataset()` function for reuseability purpose before exploring further\n"
   ]
  },
  {
   "cell_type": "code",
   "execution_count": 1,
   "metadata": {
    "collapsed": false
   },
   "outputs": [],
   "source": [
    "## Reuseable Function to convert any file into list of list ##\n",
    "def open_dataset(file_name, header=True):\n",
    "    opened_file = open(file_name)\n",
    "    from csv import reader\n",
    "    read_file = reader(opened_file)\n",
    "    data = list(read_file)\n",
    "    if header:\n",
    "        return data[0]             #displays only header\n",
    "    elif header == False:\n",
    "        return data[1:]  \n",
    "    else:\n",
    "        return data"
   ]
  },
  {
   "cell_type": "code",
   "execution_count": 2,
   "metadata": {
    "collapsed": false
   },
   "outputs": [],
   "source": [
    "## Google Play dataset ##\n",
    "\n",
    "Andriod_dataset = open_dataset('googleplaystore.csv')\n",
    "Andriod_header = open_dataset('googleplaystore.csv', header=True)\n",
    "Andriod = open_dataset('googleplaystore.csv', header = False)"
   ]
  },
  {
   "cell_type": "code",
   "execution_count": 3,
   "metadata": {
    "collapsed": false
   },
   "outputs": [],
   "source": [
    "## App Store dataset ##\n",
    "\n",
    "IOS_dataset = open_dataset('AppleStore.csv')\n",
    "IOS_header = open_dataset('AppleStore.csv', header = True)\n",
    "IOS = open_dataset('AppleStore.csv', header = False)"
   ]
  },
  {
   "cell_type": "markdown",
   "metadata": {},
   "source": [
    "**Exploring the data sets using the function `explore_data()` that will enable us display rows and columns in a readable way.**"
   ]
  },
  {
   "cell_type": "code",
   "execution_count": 4,
   "metadata": {
    "collapsed": false
   },
   "outputs": [],
   "source": [
    "def explore_data(dataset, start, end, rows_and_columns = True):\n",
    "    data_slice = dataset[start:end]\n",
    "    for row in data_slice:\n",
    "        print(row)\n",
    "        print('\\n')     #adds a new (empty) line between each row\n",
    "        \n",
    "    if rows_and_columns:\n",
    "        print('Number of rows:', len(dataset[start:]))\n",
    "        print('Number of columns:', len(dataset[0]))\n",
    "              "
   ]
  },
  {
   "cell_type": "code",
   "execution_count": 5,
   "metadata": {
    "collapsed": false
   },
   "outputs": [
    {
     "name": "stdout",
     "output_type": "stream",
     "text": [
      "['App', 'Category', 'Rating', 'Reviews', 'Size', 'Installs', 'Type', 'Price', 'Content Rating', 'Genres', 'Last Updated', 'Current Ver', 'Android Ver']\n",
      "\n",
      "\n",
      "['Photo Editor & Candy Camera & Grid & ScrapBook', 'ART_AND_DESIGN', '4.1', '159', '19M', '10,000+', 'Free', '0', 'Everyone', 'Art & Design', 'January 7, 2018', '1.0.0', '4.0.3 and up']\n",
      "\n",
      "\n",
      "['Coloring book moana', 'ART_AND_DESIGN', '3.9', '967', '14M', '500,000+', 'Free', '0', 'Everyone', 'Art & Design;Pretend Play', 'January 15, 2018', '2.0.0', '4.0.3 and up']\n",
      "\n",
      "\n",
      "['U Launcher Lite – FREE Live Cool Themes, Hide Apps', 'ART_AND_DESIGN', '4.7', '87510', '8.7M', '5,000,000+', 'Free', '0', 'Everyone', 'Art & Design', 'August 1, 2018', '1.2.4', '4.0.3 and up']\n",
      "\n",
      "\n",
      "Number of rows: 10841\n",
      "Number of columns: 13\n"
     ]
    }
   ],
   "source": [
    "print(Andriod_header)\n",
    "print('\\n')\n",
    "explore_data(Andriod, 0, 3, True)"
   ]
  },
  {
   "cell_type": "markdown",
   "metadata": {},
   "source": [
    "from the above result of  our Andriod data set, we see that there are 10841 rows and 13 columns. The columns that could help with our analysis are \"App\", 'Rating', 'Reviews', 'Installs', 'Price', 'Content Rating' e.t.c.\n",
    "\n",
    "\n",
    "The full description of the column names can be gotten by clicking on [this link](https://dq-content.s3.amazonaws.com/350/googleplaystore.csv)\n",
    "    \n",
    "\n"
   ]
  },
  {
   "cell_type": "markdown",
   "metadata": {},
   "source": [
    "Now let's a look at our Apple Store dataset"
   ]
  },
  {
   "cell_type": "code",
   "execution_count": 6,
   "metadata": {
    "collapsed": false
   },
   "outputs": [
    {
     "name": "stdout",
     "output_type": "stream",
     "text": [
      "['id', 'track_name', 'size_bytes', 'currency', 'price', 'rating_count_tot', 'rating_count_ver', 'user_rating', 'user_rating_ver', 'ver', 'cont_rating', 'prime_genre', 'sup_devices.num', 'ipadSc_urls.num', 'lang.num', 'vpp_lic']\n",
      "\n",
      "\n",
      "['284882215', 'Facebook', '389879808', 'USD', '0.0', '2974676', '212', '3.5', '3.5', '95.0', '4+', 'Social Networking', '37', '1', '29', '1']\n",
      "\n",
      "\n",
      "['389801252', 'Instagram', '113954816', 'USD', '0.0', '2161558', '1289', '4.5', '4.0', '10.23', '12+', 'Photo & Video', '37', '0', '29', '1']\n",
      "\n",
      "\n",
      "['529479190', 'Clash of Clans', '116476928', 'USD', '0.0', '2130805', '579', '4.5', '4.5', '9.24.12', '9+', 'Games', '38', '5', '18', '1']\n",
      "\n",
      "\n",
      "Number of rows: 7197\n",
      "Number of columns: 16\n"
     ]
    }
   ],
   "source": [
    "print(IOS_header)\n",
    "print('\\n')\n",
    "explore_data(IOS, 0, 3, True)"
   ]
  },
  {
   "cell_type": "markdown",
   "metadata": {},
   "source": [
    "We have 7197 iOS apps  and 16 columns in this data set, and the columns that seem interesting are: 'track_name', 'currency', 'price', 'rating_count_tot', 'rating_count_ver', and 'prime_genre'. \n",
    "\n",
    "Not all column names are self-explanatory in this case, but details about each column can be found in the data set [documentation](https://dq-content.s3.amazonaws.com/350/AppleStore.csv)."
   ]
  },
  {
   "cell_type": "markdown",
   "metadata": {},
   "source": [
    "## Deleting Wrong Data \n",
    "\n",
    "The Google Play data set has a dedicated [discussion section](https://www.kaggle.com/lava18/google-play-store-apps/discussion), and we can see that [one of the discussions](https://www.kaggle.com/lava18/google-play-store-apps/discussion/66015) describes an error for a certain row.\n",
    "\n",
    "To find the incorrect row in the dataset, we will compare the length of the header and the length of the row.\n",
    "If the length of the header is not equal to that of the row, hence the incorrect row."
   ]
  },
  {
   "cell_type": "code",
   "execution_count": 7,
   "metadata": {
    "collapsed": false
   },
   "outputs": [
    {
     "name": "stdout",
     "output_type": "stream",
     "text": [
      "['Life Made WI-Fi Touchscreen Photo Frame', '1.9', '19', '3.0M', '1,000+', 'Free', '0', 'Everyone', '', 'February 11, 2018', '1.0.19', '4.0 and up']\n",
      "\n",
      "\n",
      "10472\n"
     ]
    }
   ],
   "source": [
    "for row in Andriod:\n",
    "    header_length = len(Andriod_header)\n",
    "    row_length = len(row)\n",
    "    if  row_length != header_length:\n",
    "        print(row)                     \n",
    "        print('\\n')\n",
    "        print(Andriod.index(row))     #incorrect row number"
   ]
  },
  {
   "cell_type": "markdown",
   "metadata": {},
   "source": [
    "The error in the data set is found at the index row 10472. We will print it out to compare it with the header amd a correct row before removing the row."
   ]
  },
  {
   "cell_type": "code",
   "execution_count": 8,
   "metadata": {
    "collapsed": false
   },
   "outputs": [
    {
     "name": "stdout",
     "output_type": "stream",
     "text": [
      "['Life Made WI-Fi Touchscreen Photo Frame', '1.9', '19', '3.0M', '1,000+', 'Free', '0', 'Everyone', '', 'February 11, 2018', '1.0.19', '4.0 and up']\n",
      "\n",
      "\n",
      "['App', 'Category', 'Rating', 'Reviews', 'Size', 'Installs', 'Type', 'Price', 'Content Rating', 'Genres', 'Last Updated', 'Current Ver', 'Android Ver']\n",
      "\n",
      "\n",
      "['Photo Editor & Candy Camera & Grid & ScrapBook', 'ART_AND_DESIGN', '4.1', '159', '19M', '10,000+', 'Free', '0', 'Everyone', 'Art & Design', 'January 7, 2018', '1.0.0', '4.0.3 and up']\n"
     ]
    }
   ],
   "source": [
    "print(Andriod[10472])            #incorrect row\n",
    "print('\\n')\n",
    "print(Andriod_header)            #Data with only header\n",
    "print('\\n')\n",
    "print(Andriod[0])                #Correct row\n"
   ]
  },
  {
   "cell_type": "markdown",
   "metadata": {},
   "source": [
    "The row 10472 corresponds to the **app** `Life Made WI-Fi Touchscreen Photo Frame,` the **Category** is `1.9` which is wrong and the **Genre** is missing. \n",
    "As a consequence, we'll delete this row."
   ]
  },
  {
   "cell_type": "code",
   "execution_count": 9,
   "metadata": {
    "collapsed": false
   },
   "outputs": [
    {
     "name": "stdout",
     "output_type": "stream",
     "text": [
      "10841\n",
      "\n",
      "\n",
      "10840\n"
     ]
    }
   ],
   "source": [
    "print(len(Andriod))\n",
    "print('\\n')\n",
    "del Andriod[10472]   #Don't run this more than once\n",
    "print(len(Andriod))"
   ]
  },
  {
   "cell_type": "markdown",
   "metadata": {},
   "source": [
    "## Removing Duplicate Entries\n",
    "\n",
    "**Stage 1**\n",
    "\n",
    "After looking through the [discussion](https://www.kaggle.com/lava18/google-play-store-apps/discussion) section, it was observed that there are duplicate entries in the dataset.\n",
    "\n",
    "To prove further, we decided to explore through the following code to show one of the said entries which is **Instagram** with four entries:"
   ]
  },
  {
   "cell_type": "code",
   "execution_count": 10,
   "metadata": {
    "collapsed": false
   },
   "outputs": [
    {
     "name": "stdout",
     "output_type": "stream",
     "text": [
      "['Instagram', 'SOCIAL', '4.5', '66577313', 'Varies with device', '1,000,000,000+', 'Free', '0', 'Teen', 'Social', 'July 31, 2018', 'Varies with device', 'Varies with device']\n",
      "['Instagram', 'SOCIAL', '4.5', '66577446', 'Varies with device', '1,000,000,000+', 'Free', '0', 'Teen', 'Social', 'July 31, 2018', 'Varies with device', 'Varies with device']\n",
      "['Instagram', 'SOCIAL', '4.5', '66577313', 'Varies with device', '1,000,000,000+', 'Free', '0', 'Teen', 'Social', 'July 31, 2018', 'Varies with device', 'Varies with device']\n",
      "['Instagram', 'SOCIAL', '4.5', '66509917', 'Varies with device', '1,000,000,000+', 'Free', '0', 'Teen', 'Social', 'July 31, 2018', 'Varies with device', 'Varies with device']\n"
     ]
    }
   ],
   "source": [
    "for app in Andriod:\n",
    "    name = app[0]\n",
    "    if name == 'Instagram':\n",
    "        print(app)"
   ]
  },
  {
   "cell_type": "markdown",
   "metadata": {},
   "source": [
    "**In order to obtain the whole duplicate values, we generate some codes below to print the total number of the duplicate Entries and print a few of them:**\n",
    "\n",
    "* we created two empty lists: one for duplicate values(`duplicate_app`) and the other for unique values(`unique_app`)\n",
    "\n",
    "* we looped through the dataset and for every iteration:\n",
    "\n",
    "* we retrieved the name of each app and assigned it to a variable called `name`\n",
    "* we checked if each name is a member or exist in the unique app list\n",
    "* if it does, then i attached the names generated into the duplicate list\n",
    "* else if(it doesn't, then i attached them to the unique list"
   ]
  },
  {
   "cell_type": "code",
   "execution_count": 11,
   "metadata": {
    "collapsed": false,
    "scrolled": false
   },
   "outputs": [
    {
     "name": "stdout",
     "output_type": "stream",
     "text": [
      "Number of duplicate apps: 1181\n",
      "\n",
      "\n",
      "Examples of duplicate apps: ['Quick PDF Scanner + OCR FREE', 'Box', 'Google My Business', 'ZOOM Cloud Meetings', 'join.me - Simple Meetings', 'Box', 'Zenefits', 'Google Ads', 'Google My Business', 'Slack', 'FreshBooks Classic', 'Insightly CRM', 'QuickBooks Accounting: Invoicing & Expenses', 'HipChat - Chat Built for Teams', 'Xero Accounting Software']\n"
     ]
    }
   ],
   "source": [
    "duplicate_app = []\n",
    "unique_app = []\n",
    "\n",
    "for app in Andriod:\n",
    "    name = app[0]\n",
    "    if name in unique_app:\n",
    "        duplicate_app.append(name)\n",
    "    else:\n",
    "        unique_app.append(name)\n",
    "print('Number of duplicate apps:', len(duplicate_app))\n",
    "print('\\n')\n",
    "print('Examples of duplicate apps:', duplicate_app[:15])\n",
    "    "
   ]
  },
  {
   "cell_type": "markdown",
   "metadata": {},
   "source": [
    "In total, there are 1,181 ways in which apps were duplicated."
   ]
  },
  {
   "cell_type": "markdown",
   "metadata": {},
   "source": [
    "\n",
    "\n",
    "__We decided to use another method to remove duplicate instead by random.__\n",
    "\n",
    "__If you examine the rows we printed for the instagram app, we noticed the review that has the highest rating happens to be the most recent data. Hence we build on this criterion for removing the duplicates__\n"
   ]
  },
  {
   "cell_type": "markdown",
   "metadata": {
    "collapsed": true
   },
   "source": [
    "**Stage II**\n",
    "\n",
    "To do so,\n",
    "\n",
    "* We create an empty dictionary and name it `reviews_max`, where each key represents a unique app name and the corresponding values represent the highest number of review for the app.\n",
    "\n",
    "* We loop through our dataset and for each each iteration:\n",
    "_ We extract each app name and assign it to the variable `name`\n",
    "_ We also extract each number of review, convert from string to float and assign it to a variable `n_reviews`\n",
    "\n",
    "* If `name` already exists as a key in `reviews_max` **and** `reviews_max(name) < n_reviews,` then update the number of reviews in the `reviews_max` dictionary\n",
    "\n",
    "* If `name` is not in the `reviews_max` dictionary, then create a new entry in the dictionary where the key is the unique app name and the value is the number of reviews.\n",
    "\n"
   ]
  },
  {
   "cell_type": "code",
   "execution_count": 12,
   "metadata": {
    "collapsed": false
   },
   "outputs": [],
   "source": [
    "reviews_max = {}\n",
    "\n",
    "for app in Andriod:\n",
    "    name = app[0]\n",
    "    n_reviews = float(app[3])\n",
    "    \n",
    "    if name in reviews_max and reviews_max[name] < n_reviews:\n",
    "        reviews_max[name] = n_reviews\n",
    "        \n",
    "    elif name not in reviews_max:\n",
    "        reviews_max[name] = n_reviews"
   ]
  },
  {
   "cell_type": "markdown",
   "metadata": {},
   "source": [
    "* We have 10840 dataset, out of which 1181  are duplicate entries. so total length of rows will be 9659"
   ]
  },
  {
   "cell_type": "code",
   "execution_count": 13,
   "metadata": {
    "collapsed": false
   },
   "outputs": [
    {
     "name": "stdout",
     "output_type": "stream",
     "text": [
      "Number of Expected length: 9659\n",
      "Number of Actual length: 9659\n"
     ]
    }
   ],
   "source": [
    "print('Number of Expected length:', len(Andriod) - 1181)\n",
    "print('Number of Actual length:', len(reviews_max))"
   ]
  },
  {
   "cell_type": "markdown",
   "metadata": {},
   "source": [
    "* We will use the dictionary keys and values provided above to remove the duplicate entries in the data set by doing the following steps:\n",
    "\n",
    "_ We will create two empty lists as `andriod_clean`, to store the cleaned data set as list of lists and `already_added`, to help store the name of each app that has already been added in the former list and to help prevent each row that has the same highest review number, if such exists or scaled through,from being added again.\n",
    "\n",
    "_ We loop through the data set without header and for esch iteration:\n",
    "* We extract the name of the app by index number and assign to the variable `name`\n",
    "* We extract the number of review by index and assign to the variable `n_reviews`\n",
    "* If `n_reviews` is the same as the value or number of review in the `reviews_max`variable, i.e `reviews_max[name]` and `name` not in `already_added` list\n",
    "_ Append the whole row to the `andriod_clean`list \n",
    "_ Append the name of the app to the `already_added` list\n",
    "\n",
    "*Explore the `andriod_clean` data set"
   ]
  },
  {
   "cell_type": "code",
   "execution_count": 14,
   "metadata": {
    "collapsed": false
   },
   "outputs": [],
   "source": [
    "andriod_clean = []\n",
    "already_added = []\n",
    "\n",
    "for app in Andriod:\n",
    "    name = app[0]\n",
    "    n_reviews = float(app[3])\n",
    "    if (n_reviews == reviews_max[name]) and (name not in already_added):\n",
    "        andriod_clean.append(app)\n",
    "        already_added.append(name)\n"
   ]
  },
  {
   "cell_type": "markdown",
   "metadata": {},
   "source": [
    "now let's explore the new dataset and confirm that the length of the dataset is 9659"
   ]
  },
  {
   "cell_type": "code",
   "execution_count": 15,
   "metadata": {
    "collapsed": false,
    "scrolled": true
   },
   "outputs": [
    {
     "name": "stdout",
     "output_type": "stream",
     "text": [
      "['Photo Editor & Candy Camera & Grid & ScrapBook', 'ART_AND_DESIGN', '4.1', '159', '19M', '10,000+', 'Free', '0', 'Everyone', 'Art & Design', 'January 7, 2018', '1.0.0', '4.0.3 and up']\n",
      "\n",
      "\n",
      "['U Launcher Lite – FREE Live Cool Themes, Hide Apps', 'ART_AND_DESIGN', '4.7', '87510', '8.7M', '5,000,000+', 'Free', '0', 'Everyone', 'Art & Design', 'August 1, 2018', '1.2.4', '4.0.3 and up']\n",
      "\n",
      "\n",
      "['Sketch - Draw & Paint', 'ART_AND_DESIGN', '4.5', '215644', '25M', '50,000,000+', 'Free', '0', 'Teen', 'Art & Design', 'June 8, 2018', 'Varies with device', '4.2 and up']\n",
      "\n",
      "\n",
      "['Pixel Draw - Number Art Coloring Book', 'ART_AND_DESIGN', '4.3', '967', '2.8M', '100,000+', 'Free', '0', 'Everyone', 'Art & Design;Creativity', 'June 20, 2018', '1.1', '4.4 and up']\n",
      "\n",
      "\n",
      "['Paper flowers instructions', 'ART_AND_DESIGN', '4.4', '167', '5.6M', '50,000+', 'Free', '0', 'Everyone', 'Art & Design', 'March 26, 2017', '1.0', '2.3 and up']\n",
      "\n",
      "\n",
      "Number of rows: 9659\n",
      "Number of columns: 13\n"
     ]
    }
   ],
   "source": [
    "explore_data(andriod_clean, 0, 5,True)"
   ]
  },
  {
   "cell_type": "markdown",
   "metadata": {
    "collapsed": false
   },
   "source": [
    "## Deleting Non-English app\n",
    "\n",
    "** Stage  I**\n",
    "\n",
    "When we explored both data sets long enough, we found out that they both have apps that are not for english audience.\n",
    "\n",
    "So we came up with some coodes to confirm the above narrative:\n",
    "   "
   ]
  },
  {
   "cell_type": "code",
   "execution_count": 16,
   "metadata": {
    "collapsed": false
   },
   "outputs": [
    {
     "name": "stdout",
     "output_type": "stream",
     "text": [
      "爱奇艺PPS -《欢乐颂2》电视剧热播\n",
      "【脱出ゲーム】絶対に最後までプレイしないで 〜謎解き＆ブロックパズル〜\n",
      "\n",
      "\n",
      "中国語 AQリスニング\n",
      "لعبة تقدر تربح DZ\n"
     ]
    }
   ],
   "source": [
    "print(IOS[813][1])\n",
    "print(IOS[6731][1])\n",
    "print('\\n')\n",
    "print(andriod_clean[4412][0])\n",
    "print(andriod_clean[7940][0])"
   ]
  },
  {
   "cell_type": "markdown",
   "metadata": {},
   "source": [
    "* We're not interested in keeping these apps, so we'll remove them. One way to go about this is to remove each app with a name containing a symbol that is not commonly used in English text — English text usually includes letters from the English alphabet, numbers composed of digits from 0 to 9, punctuation marks (., !, ?, ;), and other symbols (+, *, /).\n",
    "\n",
    "* Based on this number range, we can build a function that detects whether a character belongs to the set of common English characters or not. If the number is equal to or less than 127, then the character belongs to the set of common English characters"
   ]
  },
  {
   "cell_type": "code",
   "execution_count": 17,
   "metadata": {
    "collapsed": false
   },
   "outputs": [
    {
     "name": "stdout",
     "output_type": "stream",
     "text": [
      "True\n",
      "False\n",
      "False\n",
      "False\n"
     ]
    }
   ],
   "source": [
    "def is_english(string):\n",
    "    \n",
    "    for character in string:\n",
    "        if ord(character) > 127:\n",
    "            return False\n",
    "        \n",
    "    return True\n",
    "\n",
    "print(is_english('Instagram'))\n",
    "print(is_english('爱奇艺PPS -《欢乐颂2》电视剧热播'))\n",
    "print(is_english('Docs To Go™ Free Office Suite'))\n",
    "print(is_english('Instachat 😜'))"
   ]
  },
  {
   "cell_type": "markdown",
   "metadata": {},
   "source": [
    "The function seems to work fine, but some English app names use emojis or other symbols (™, — (em dash), – (en dash), etc.) that fall outside of the ASCII range. Because of this, we'll remove useful apps if we use the function in its current form."
   ]
  },
  {
   "cell_type": "code",
   "execution_count": 18,
   "metadata": {
    "collapsed": false
   },
   "outputs": [
    {
     "name": "stdout",
     "output_type": "stream",
     "text": [
      "8482\n",
      "128540\n"
     ]
    }
   ],
   "source": [
    "print(ord('™'))\n",
    "print(ord('😜'))"
   ]
  },
  {
   "cell_type": "markdown",
   "metadata": {},
   "source": [
    "** Stage II **\n",
    "\n",
    "** To minimize the impact of data loss, we'll only remove an app if its name has more than three characters with corresponding numbers falling outside the ASCII range. This means all English apps with up to three emoji or other special characters will still be labeled as English. Our filter function is still not perfect, but it should be fairly effective**\n",
    "\n",
    "** Let's edit the function we created in the previous screen, and then use it to filter out the non-English apps.**"
   ]
  },
  {
   "cell_type": "code",
   "execution_count": 19,
   "metadata": {
    "collapsed": false
   },
   "outputs": [
    {
     "name": "stdout",
     "output_type": "stream",
     "text": [
      "True\n",
      "True\n",
      "False\n"
     ]
    }
   ],
   "source": [
    "def is_english(string):\n",
    "    \n",
    "    non_ascii = 0\n",
    "    \n",
    "    for character in string:\n",
    "        if ord(character) > 127:\n",
    "            non_ascii += 1\n",
    "            \n",
    "    if non_ascii > 3:\n",
    "        return False\n",
    "    \n",
    "    else:\n",
    "        return True\n",
    "\n",
    "print(is_english('Docs To Go™ Free Office Suite'))\n",
    "print(is_english('Instachat 😜'))\n",
    "print(is_english('爱奇艺PPS -《欢乐颂2》电视剧热播'))\n",
    " "
   ]
  },
  {
   "cell_type": "markdown",
   "metadata": {},
   "source": [
    "Below, we use the is_english() function to filter out the non-English apps for both data sets:"
   ]
  },
  {
   "cell_type": "code",
   "execution_count": 20,
   "metadata": {
    "collapsed": false
   },
   "outputs": [
    {
     "name": "stdout",
     "output_type": "stream",
     "text": [
      "['Photo Editor & Candy Camera & Grid & ScrapBook', 'ART_AND_DESIGN', '4.1', '159', '19M', '10,000+', 'Free', '0', 'Everyone', 'Art & Design', 'January 7, 2018', '1.0.0', '4.0.3 and up']\n",
      "\n",
      "\n",
      "['U Launcher Lite – FREE Live Cool Themes, Hide Apps', 'ART_AND_DESIGN', '4.7', '87510', '8.7M', '5,000,000+', 'Free', '0', 'Everyone', 'Art & Design', 'August 1, 2018', '1.2.4', '4.0.3 and up']\n",
      "\n",
      "\n",
      "['Sketch - Draw & Paint', 'ART_AND_DESIGN', '4.5', '215644', '25M', '50,000,000+', 'Free', '0', 'Teen', 'Art & Design', 'June 8, 2018', 'Varies with device', '4.2 and up']\n",
      "\n",
      "\n",
      "Number of rows: 9614\n",
      "Number of columns: 13\n",
      "\n",
      "\n",
      "['284882215', 'Facebook', '389879808', 'USD', '0.0', '2974676', '212', '3.5', '3.5', '95.0', '4+', 'Social Networking', '37', '1', '29', '1']\n",
      "\n",
      "\n",
      "['389801252', 'Instagram', '113954816', 'USD', '0.0', '2161558', '1289', '4.5', '4.0', '10.23', '12+', 'Photo & Video', '37', '0', '29', '1']\n",
      "\n",
      "\n",
      "['529479190', 'Clash of Clans', '116476928', 'USD', '0.0', '2130805', '579', '4.5', '4.5', '9.24.12', '9+', 'Games', '38', '5', '18', '1']\n",
      "\n",
      "\n",
      "Number of rows: 6183\n",
      "Number of columns: 16\n"
     ]
    }
   ],
   "source": [
    "andriod_english = []\n",
    "ios_english = []\n",
    "\n",
    "for app in andriod_clean:\n",
    "    name = app[0]\n",
    "    if is_english(name):\n",
    "        andriod_english.append(app)\n",
    "        \n",
    "for app in IOS:\n",
    "    name = app[1]\n",
    "    if is_english(name):\n",
    "        ios_english.append(app)\n",
    "        \n",
    "explore_data(andriod_english, 0, 3, rows_and_columns=True)\n",
    "print('\\n')\n",
    "explore_data(ios_english, 0, 3, rows_and_columns=True)"
   ]
  },
  {
   "cell_type": "markdown",
   "metadata": {},
   "source": [
    "We can see that we're left with 9614 Android apps and 6183 iOS apps."
   ]
  },
  {
   "cell_type": "markdown",
   "metadata": {},
   "source": [
    "## Extracting free Apps\n",
    "\n",
    "As we mentioned in the introduction, we only build apps that are free to download and install, and our main source of revenue consists of in-app ads. Our data sets contain both free and non-free apps; we'll need to isolate only the free apps for our analysis."
   ]
  },
  {
   "cell_type": "code",
   "execution_count": 21,
   "metadata": {
    "collapsed": false
   },
   "outputs": [
    {
     "name": "stdout",
     "output_type": "stream",
     "text": [
      "8864\n",
      "\n",
      "\n",
      "3222\n"
     ]
    }
   ],
   "source": [
    "andriod_final = []\n",
    "\n",
    "for free_app in andriod_english:\n",
    "    price = free_app[7]\n",
    "    \n",
    "    if price == '0':\n",
    "        andriod_final.append(free_app)\n",
    "print(len(andriod_final))\n",
    "\n",
    "print('\\n')\n",
    "\n",
    "ios_final = []\n",
    "\n",
    "for free_app in ios_english:\n",
    "    price = free_app[4]\n",
    "    \n",
    "    if price == '0.0':\n",
    "        ios_final.append(free_app)\n",
    "print(len(ios_final))"
   ]
  },
  {
   "cell_type": "markdown",
   "metadata": {
    "collapsed": false
   },
   "source": [
    "## Most Attractive Apps by Genre\n",
    "\n",
    "**Part One**\n",
    "\n",
    "As we mentioned in the introduction, our aim is to determine the kinds of apps that are likely to attract more users because our revenue is highly influenced by the number of people using our apps.\n",
    "\n",
    "To minimize risks and overhead, our validation strategy for an app idea is comprised of three steps:\n",
    "\n",
    "* Build a minimal Android version of the app, and add it to Google Play.\n",
    "* If the app has a good response from users, we develop it further.\n",
    "* If the app is profitable after six months, we build an iOS version of the app and add it to the App Store.\n",
    "\n",
    "Because our end goal is to add the app on both Google Play and the App Store, we need to find app profiles that are successful on both markets. For instance, a profile that works well for both markets might be a productivity app that makes use of gamification.\n",
    "\n",
    "Let's begin the analysis by getting a sense of what are the most common genres for each market. For this, we'll build a frequency table for the prime_genre column of the App Store data set, and the Genres and Category columns of the Google Play data set."
   ]
  },
  {
   "cell_type": "markdown",
   "metadata": {},
   "source": [
    "**Part Two**\n",
    "\n",
    "We'll build two functions we can use to analyze the frequency tables:\n",
    "\n",
    "* One function to generate frequency tables that show percentages\n",
    "* Another function that we can use to display the percentages in a descending order"
   ]
  },
  {
   "cell_type": "code",
   "execution_count": null,
   "metadata": {
    "collapsed": false
   },
   "outputs": [],
   "source": [
    "def freq_table(dataset, index):\n",
    "    frequency_table = {}\n",
    "    total = 0\n",
    "    \n",
    "    for each_row in dataset:\n",
    "        total  += 1\n",
    "        app_genre = each_row[index]\n",
    "        if app_genre in frequency_table:\n",
    "            frequency_table[app_genre] += 1\n",
    "        else:\n",
    "            frequency_table[app_genre] = 1\n",
    "            \n",
    "    freq_percentages = {}\n",
    "    for key in frequency_table:\n",
    "        percentages = (frequency_table[key] / total) * 100\n",
    "        freq_percentages[key] = percentages\n",
    "    return freq_percentages\n",
    "\n",
    "def display_table(dataset, index):\n",
    "    table = freq_table(dataset, index)\n",
    "    freq_table_tuple = []\n",
    "    \n",
    "    for each_key in table:\n",
    "        table_as_tuple = (each_key, table[each_key])\n",
    "        freq_table_tuple.append(table_as_tuple)\n",
    "        \n",
    "    table_sorted = sorted(freq_table_tuple, reverse = True)\n",
    "    for entry in table_sorted:\n",
    "        print(entry)\n",
    "    "
   ]
  },
  {
   "cell_type": "markdown",
   "metadata": {},
   "source": [
    "**Part Three**\n",
    "\n",
    "We start by examining the frequency table for the prime_genre column of the App Store data set."
   ]
  },
  {
   "cell_type": "code",
   "execution_count": 27,
   "metadata": {
    "collapsed": false
   },
   "outputs": [
    {
     "name": "stdout",
     "output_type": "stream",
     "text": [
      "('Weather', 0.8690254500310366)\n",
      "('Utilities', 2.5139664804469275)\n",
      "('Travel', 1.2414649286157666)\n",
      "('Sports', 2.1415270018621975)\n",
      "('Social Networking', 3.2898820608317814)\n",
      "('Shopping', 2.60707635009311)\n",
      "('Reference', 0.5586592178770949)\n",
      "('Productivity', 1.7380509000620732)\n",
      "('Photo & Video', 4.9658597144630665)\n",
      "('News', 1.3345747982619491)\n",
      "('Navigation', 0.186219739292365)\n",
      "('Music', 2.0484171322160147)\n",
      "('Medical', 0.186219739292365)\n",
      "('Lifestyle', 1.5828677839851024)\n",
      "('Health & Fitness', 2.0173805090006205)\n",
      "('Games', 58.16263190564867)\n",
      "('Food & Drink', 0.8069522036002483)\n",
      "('Finance', 1.1173184357541899)\n",
      "('Entertainment', 7.883302296710118)\n",
      "('Education', 3.662321539416512)\n",
      "('Catalogs', 0.12414649286157665)\n",
      "('Business', 0.5276225946617008)\n",
      "('Book', 0.4345127250155183)\n"
     ]
    }
   ],
   "source": [
    "display_table(ios_final, -5)   # Prime_Genre - App Store"
   ]
  },
  {
   "cell_type": "markdown",
   "metadata": {},
   "source": [
    "## Frequency Table Analysis for App Store genre generated \n",
    "\n",
    "* From the frquency table generated for `prime-genre` column of the App Store dataset, The most common genre is `Games` with  about 58% followed by `Entertainment` with approximately 8%.\n",
    "* I see that another enterainment sector `Photo and Video` follows closely with about 5% while `Education` and `social networking` follow closely with about 3%.\n",
    "* i can say that most of the apps about 74% are designed for entertainment purpose\n",
    "\n",
    "since the game app profile has the highest number of users and the company derives revenue from the most used app, then i would recommend for it to be added to the Apple Store."
   ]
  },
  {
   "cell_type": "code",
   "execution_count": 28,
   "metadata": {
    "collapsed": false
   },
   "outputs": [
    {
     "name": "stdout",
     "output_type": "stream",
     "text": [
      "('WEATHER', 0.8009927797833934)\n",
      "('VIDEO_PLAYERS', 1.7937725631768955)\n",
      "('TRAVEL_AND_LOCAL', 2.33528880866426)\n",
      "('TOOLS', 8.461191335740072)\n",
      "('SPORTS', 3.395758122743682)\n",
      "('SOCIAL', 2.6624548736462095)\n",
      "('SHOPPING', 2.2450361010830324)\n",
      "('PRODUCTIVITY', 3.892148014440433)\n",
      "('PHOTOGRAPHY', 2.944494584837545)\n",
      "('PERSONALIZATION', 3.3167870036101084)\n",
      "('PARENTING', 0.6543321299638989)\n",
      "('NEWS_AND_MAGAZINES', 2.7978339350180503)\n",
      "('MEDICAL', 3.531137184115524)\n",
      "('MAPS_AND_NAVIGATION', 1.3989169675090252)\n",
      "('LIFESTYLE', 3.9034296028880866)\n",
      "('LIBRARIES_AND_DEMO', 0.9363718411552346)\n",
      "('HOUSE_AND_HOME', 0.8235559566787004)\n",
      "('HEALTH_AND_FITNESS', 3.0798736462093865)\n",
      "('GAME', 9.724729241877256)\n",
      "('FOOD_AND_DRINK', 1.2409747292418771)\n",
      "('FINANCE', 3.7003610108303246)\n",
      "('FAMILY', 18.907942238267147)\n",
      "('EVENTS', 0.7107400722021661)\n",
      "('ENTERTAINMENT', 0.9589350180505415)\n",
      "('EDUCATION', 1.1620036101083033)\n",
      "('DATING', 1.861462093862816)\n",
      "('COMMUNICATION', 3.2378158844765346)\n",
      "('COMICS', 0.6204873646209386)\n",
      "('BUSINESS', 4.591606498194946)\n",
      "('BOOKS_AND_REFERENCE', 2.1435018050541514)\n",
      "('BEAUTY', 0.5979241877256317)\n",
      "('AUTO_AND_VEHICLES', 0.9250902527075812)\n",
      "('ART_AND_DESIGN', 0.6430505415162455)\n"
     ]
    }
   ],
   "source": [
    "display_table(andriod_final, 1)   # Category - Google Play"
   ]
  },
  {
   "cell_type": "markdown",
   "metadata": {},
   "source": [
    "## Frequency Table Analysis for Google play Category generated \n",
    "\n",
    "for category genre:\n",
    "\n",
    "* The `Family` app is the most common genre with about 19% followed by `Game`with about 9%\n",
    "\n",
    "* I see other apps meant for practical purposes followed with about 3%\n",
    "\n",
    "* The `Game` app for App Store has more users than that of Play Store\n"
   ]
  },
  {
   "cell_type": "code",
   "execution_count": 29,
   "metadata": {
    "collapsed": false
   },
   "outputs": [
    {
     "name": "stdout",
     "output_type": "stream",
     "text": [
      "('Word', 0.2594765342960289)\n",
      "('Weather', 0.8009927797833934)\n",
      "('Video Players & Editors;Music & Video', 0.02256317689530686)\n",
      "('Video Players & Editors;Creativity', 0.01128158844765343)\n",
      "('Video Players & Editors', 1.7712093862815883)\n",
      "('Trivia;Education', 0.01128158844765343)\n",
      "('Trivia', 0.41741877256317694)\n",
      "('Travel & Local;Action & Adventure', 0.01128158844765343)\n",
      "('Travel & Local', 2.3240072202166067)\n",
      "('Tools;Education', 0.01128158844765343)\n",
      "('Tools', 8.449909747292418)\n",
      "('Strategy;Education', 0.01128158844765343)\n",
      "('Strategy;Creativity', 0.01128158844765343)\n",
      "('Strategy;Action & Adventure', 0.01128158844765343)\n",
      "('Strategy', 0.9138086642599278)\n",
      "('Sports;Action & Adventure', 0.02256317689530686)\n",
      "('Sports', 3.463447653429603)\n",
      "('Social', 2.6624548736462095)\n",
      "('Simulation;Pretend Play', 0.02256317689530686)\n",
      "('Simulation;Education', 0.01128158844765343)\n",
      "('Simulation;Action & Adventure', 0.078971119133574)\n",
      "('Simulation', 2.0419675090252705)\n",
      "('Shopping', 2.2450361010830324)\n",
      "('Role Playing;Pretend Play', 0.04512635379061372)\n",
      "('Role Playing;Brain Games', 0.01128158844765343)\n",
      "('Role Playing;Action & Adventure', 0.033844765342960284)\n",
      "('Role Playing', 0.9363718411552346)\n",
      "('Racing;Pretend Play', 0.01128158844765343)\n",
      "('Racing;Action & Adventure', 0.16922382671480143)\n",
      "('Racing', 0.9927797833935018)\n",
      "('Puzzle;Education', 0.01128158844765343)\n",
      "('Puzzle;Creativity', 0.02256317689530686)\n",
      "('Puzzle;Brain Games', 0.16922382671480143)\n",
      "('Puzzle;Action & Adventure', 0.033844765342960284)\n",
      "('Puzzle', 1.128158844765343)\n",
      "('Productivity', 3.892148014440433)\n",
      "('Photography', 2.944494584837545)\n",
      "('Personalization', 3.3167870036101084)\n",
      "('Parenting;Music & Video', 0.06768953068592057)\n",
      "('Parenting;Education', 0.078971119133574)\n",
      "('Parenting;Brain Games', 0.01128158844765343)\n",
      "('Parenting', 0.4963898916967509)\n",
      "('News & Magazines', 2.7978339350180503)\n",
      "('Music;Music & Video', 0.02256317689530686)\n",
      "('Music & Audio;Music & Video', 0.01128158844765343)\n",
      "('Music', 0.2030685920577617)\n",
      "('Medical', 3.531137184115524)\n",
      "('Maps & Navigation', 1.3989169675090252)\n",
      "('Lifestyle;Pretend Play', 0.01128158844765343)\n",
      "('Lifestyle;Education', 0.01128158844765343)\n",
      "('Lifestyle', 3.892148014440433)\n",
      "('Libraries & Demo', 0.9363718411552346)\n",
      "('House & Home', 0.8235559566787004)\n",
      "('Health & Fitness;Education', 0.01128158844765343)\n",
      "('Health & Fitness;Action & Adventure', 0.01128158844765343)\n",
      "('Health & Fitness', 3.0798736462093865)\n",
      "('Food & Drink', 1.2409747292418771)\n",
      "('Finance', 3.7003610108303246)\n",
      "('Events', 0.7107400722021661)\n",
      "('Entertainment;Pretend Play', 0.02256317689530686)\n",
      "('Entertainment;Music & Video', 0.16922382671480143)\n",
      "('Entertainment;Education', 0.01128158844765343)\n",
      "('Entertainment;Creativity', 0.033844765342960284)\n",
      "('Entertainment;Brain Games', 0.078971119133574)\n",
      "('Entertainment;Action & Adventure', 0.033844765342960284)\n",
      "('Entertainment', 6.069494584837545)\n",
      "('Educational;Pretend Play', 0.09025270758122744)\n",
      "('Educational;Education', 0.39485559566787)\n",
      "('Educational;Creativity', 0.033844765342960284)\n",
      "('Educational;Brain Games', 0.06768953068592057)\n",
      "('Educational;Action & Adventure', 0.033844765342960284)\n",
      "('Educational', 0.3722924187725632)\n",
      "('Education;Pretend Play', 0.056407942238267145)\n",
      "('Education;Music & Video', 0.033844765342960284)\n",
      "('Education;Education', 0.33844765342960287)\n",
      "('Education;Creativity', 0.04512635379061372)\n",
      "('Education;Brain Games', 0.033844765342960284)\n",
      "('Education;Action & Adventure', 0.033844765342960284)\n",
      "('Education', 5.347472924187725)\n",
      "('Dating', 1.861462093862816)\n",
      "('Communication;Creativity', 0.01128158844765343)\n",
      "('Communication', 3.2378158844765346)\n",
      "('Comics;Creativity', 0.01128158844765343)\n",
      "('Comics', 0.6092057761732852)\n",
      "('Casual;Pretend Play', 0.236913357400722)\n",
      "('Casual;Music & Video', 0.01128158844765343)\n",
      "('Casual;Education', 0.02256317689530686)\n",
      "('Casual;Creativity', 0.06768953068592057)\n",
      "('Casual;Brain Games', 0.13537906137184114)\n",
      "('Casual;Action & Adventure', 0.13537906137184114)\n",
      "('Casual', 1.7599277978339352)\n",
      "('Casino', 0.42870036101083037)\n",
      "('Card;Action & Adventure', 0.01128158844765343)\n",
      "('Card', 0.45126353790613716)\n",
      "('Business', 4.591606498194946)\n",
      "('Books & Reference;Education', 0.01128158844765343)\n",
      "('Books & Reference', 2.1435018050541514)\n",
      "('Board;Brain Games', 0.078971119133574)\n",
      "('Board;Action & Adventure', 0.02256317689530686)\n",
      "('Board', 0.3835740072202166)\n",
      "('Beauty', 0.5979241877256317)\n",
      "('Auto & Vehicles', 0.9250902527075812)\n",
      "('Art & Design;Pretend Play', 0.01128158844765343)\n",
      "('Art & Design;Creativity', 0.06768953068592057)\n",
      "('Art & Design;Action & Adventure', 0.01128158844765343)\n",
      "('Art & Design', 0.5979241877256317)\n",
      "('Arcade;Pretend Play', 0.01128158844765343)\n",
      "('Arcade;Action & Adventure', 0.12409747292418773)\n",
      "('Arcade', 1.8501805054151623)\n",
      "('Adventure;Education', 0.01128158844765343)\n",
      "('Adventure;Action & Adventure', 0.033844765342960284)\n",
      "('Adventure', 0.6768953068592057)\n",
      "('Action;Action & Adventure', 0.10153429602888085)\n",
      "('Action', 3.1024368231046933)\n"
     ]
    }
   ],
   "source": [
    "display_table(andriod_final, -4)   # Genre - Google Play"
   ]
  },
  {
   "cell_type": "markdown",
   "metadata": {},
   "source": [
    "## Frequency Table Analysis for Google play Genre generated \n",
    "\n",
    "for genre:\n",
    "\n",
    "* There is no much difference between the Ctegory and Genre columns.\n",
    "* but one thing we can notice is that the Genres column  has more categories. \n",
    "\n",
    "so we'll only work with the Category column since it is no too cumbersome..\n",
    "\n"
   ]
  },
  {
   "cell_type": "markdown",
   "metadata": {},
   "source": [
    "## Most Popular Apps by Genre on the App Store\n",
    "\n",
    "* One way to find out what genres are the most popular (have the most users) is to calculate the average number of installs for each app genre. For the Google Play data set, we can find this information in the Installs column, but for the App Store data set this information is missing. As a workaround, we'll take the total number of user ratings as a proxy, which we can find in the rating_count_tot app.\n",
    "\n",
    "* Below, we calculate the average number of user ratings per app genre on the App Store:"
   ]
  },
  {
   "cell_type": "code",
   "execution_count": 30,
   "metadata": {
    "collapsed": false,
    "scrolled": true
   },
   "outputs": [
    {
     "name": "stdout",
     "output_type": "stream",
     "text": [
      "Weather : 52279.892857142855\n",
      "Music : 57326.530303030304\n",
      "Shopping : 26919.690476190477\n",
      "Food & Drink : 33333.92307692308\n",
      "Reference : 74942.11111111111\n",
      "Catalogs : 4004.0\n",
      "Finance : 31467.944444444445\n",
      "Health & Fitness : 23298.015384615384\n",
      "Lifestyle : 16485.764705882353\n",
      "Sports : 23008.898550724636\n",
      "Navigation : 86090.33333333333\n",
      "Business : 7491.117647058823\n",
      "Productivity : 21028.410714285714\n",
      "Social Networking : 71548.34905660378\n",
      "News : 21248.023255813954\n",
      "Games : 22788.6696905016\n",
      "Utilities : 18684.456790123455\n",
      "Entertainment : 14029.830708661417\n",
      "Travel : 28243.8\n",
      "Education : 7003.983050847458\n",
      "Photo & Video : 28441.54375\n",
      "Book : 39758.5\n",
      "Medical : 612.0\n"
     ]
    }
   ],
   "source": [
    "unique_genre = freq_table(ios_final, -5)\n",
    "\n",
    "for genre in unique_genre:\n",
    "    total = 0\n",
    "    len_genre = 0\n",
    "    \n",
    "    for app in ios_final:\n",
    "        genre_app = app[-5]\n",
    "        \n",
    "        if genre_app == genre:\n",
    "            n_rating = float(app[5])\n",
    "            \n",
    "            total += n_rating\n",
    "            len_genre += 1\n",
    "            \n",
    "    avg_rating = total / len_genre\n",
    "    print(genre, ':', avg_rating)\n",
    "    "
   ]
  },
  {
   "cell_type": "markdown",
   "metadata": {},
   "source": [
    "On average, navigation apps have the highest number of user reviews. And these high numbers seeem to be influenced by its a few apps.\n",
    "\n",
    "Let take a look"
   ]
  },
  {
   "cell_type": "code",
   "execution_count": 31,
   "metadata": {
    "collapsed": false
   },
   "outputs": [
    {
     "name": "stdout",
     "output_type": "stream",
     "text": [
      "Waze - GPS Navigation, Maps & Real-time Traffic : 345046\n",
      "Google Maps - Navigation & Transit : 154911\n",
      "Geocaching® : 12811\n",
      "CoPilot GPS – Car Navigation & Offline Maps : 3582\n",
      "ImmobilienScout24: Real Estate Search in Germany : 187\n",
      "Railway Route Search : 5\n"
     ]
    }
   ],
   "source": [
    "for app in ios_final:\n",
    "    if app[-5] == 'Navigation':\n",
    "        print(app[1], ':', app[5])  #print name of app and no 0f ratings"
   ]
  },
  {
   "cell_type": "markdown",
   "metadata": {},
   "source": [
    "we can see above that, Navigation app high numbers are influenced by waze & Google maps. same applies to other apps like social Networking, music e.t.c"
   ]
  },
  {
   "cell_type": "markdown",
   "metadata": {},
   "source": [
    "Reference app, being the runner up, has 74,942 user ratings and the high figures are being spiked up by bible and dictionary."
   ]
  },
  {
   "cell_type": "code",
   "execution_count": 32,
   "metadata": {
    "collapsed": false
   },
   "outputs": [
    {
     "name": "stdout",
     "output_type": "stream",
     "text": [
      "Bible : 985920\n",
      "Dictionary.com Dictionary & Thesaurus : 200047\n",
      "Dictionary.com Dictionary & Thesaurus for iPad : 54175\n",
      "Google Translate : 26786\n",
      "Muslim Pro: Ramadan 2017 Prayer Times, Azan, Quran : 18418\n",
      "New Furniture Mods - Pocket Wiki & Game Tools for Minecraft PC Edition : 17588\n",
      "Merriam-Webster Dictionary : 16849\n",
      "Night Sky : 12122\n",
      "City Maps for Minecraft PE - The Best Maps for Minecraft Pocket Edition (MCPE) : 8535\n",
      "LUCKY BLOCK MOD ™ for Minecraft PC Edition - The Best Pocket Wiki & Mods Installer Tools : 4693\n",
      "GUNS MODS for Minecraft PC Edition - Mods Tools : 1497\n",
      "Guides for Pokémon GO - Pokemon GO News and Cheats : 826\n",
      "WWDC : 762\n",
      "Horror Maps for Minecraft PE - Download The Scariest Maps for Minecraft Pocket Edition (MCPE) Free : 718\n",
      "VPN Express : 14\n",
      "Real Bike Traffic Rider Virtual Reality Glasses : 8\n",
      "教えて!goo : 0\n",
      "Jishokun-Japanese English Dictionary & Translator : 0\n"
     ]
    }
   ],
   "source": [
    "for app in ios_final:\n",
    "    if app[-5] == 'Reference':\n",
    "         print(app[1], ':', app[5])  #app name and no of ratings"
   ]
  },
  {
   "cell_type": "markdown",
   "metadata": {},
   "source": [
    "from the above result, since we are looking for the most popular app by rating, the Reference app being a practical app may be considered. and if possible additional functions could be added to the bible and dictionary to make it more attractive for users."
   ]
  },
  {
   "cell_type": "markdown",
   "metadata": {},
   "source": [
    "Now let us analyse the Google Play Store app"
   ]
  },
  {
   "cell_type": "markdown",
   "metadata": {},
   "source": [
    "## Most Popular Apps by Genre on Google Play\n",
    "\n",
    "For the Google Play market, we actually have data about the number of installs, so we should be able to get a clearer picture about genre popularity.\n",
    "\n",
    "However, the install numbers don't seem precise enough — we can see that most values are open-ended (100+, 1,000+, 5,000+, etc.):"
   ]
  },
  {
   "cell_type": "code",
   "execution_count": 33,
   "metadata": {
    "collapsed": false,
    "scrolled": true
   },
   "outputs": [
    {
     "name": "stdout",
     "output_type": "stream",
     "text": [
      "('500,000,000+', 0.2707581227436823)\n",
      "('500,000+', 5.561823104693141)\n",
      "('500+', 3.2490974729241873)\n",
      "('50,000,000+', 2.3014440433213)\n",
      "('50,000+', 4.7721119133574)\n",
      "('50+', 1.917870036101083)\n",
      "('5,000,000+', 6.825361010830325)\n",
      "('5,000+', 4.512635379061372)\n",
      "('5+', 0.78971119133574)\n",
      "('100,000,000+', 2.1322202166064983)\n",
      "('100,000+', 11.552346570397113)\n",
      "('100+', 6.915613718411552)\n",
      "('10,000,000+', 10.548285198555957)\n",
      "('10,000+', 10.198555956678701)\n",
      "('10+', 3.5424187725631766)\n",
      "('1,000,000,000+', 0.22563176895306858)\n",
      "('1,000,000+', 15.726534296028879)\n",
      "('1,000+', 8.393501805054152)\n",
      "('1+', 0.5076714801444043)\n",
      "('0+', 0.04512635379061372)\n",
      "('0', 0.01128158844765343)\n"
     ]
    }
   ],
   "source": [
    "display_table(andriod_final, 5)  #Installs Columns"
   ]
  },
  {
   "cell_type": "markdown",
   "metadata": {},
   "source": [
    "For instance, we don't know whether an app with 100,000+ installs has 100,000 installs, 200,000, or 350,000. However, we don't need very precise data for our purposes — we only want to find out which app genres attract the most users, and we don't need perfect precision with respect to the number of users.\n",
    "\n",
    "We're going to leave the numbers as they are, which means that we'll consider that an app with 100,000+ installs has 100,000 installs, and an app with 1,000,000+ installs has 1,000,000 installs, and so on. To perform computations, however, we'll need to convert each install number from string to float. This means we need to remove the commas and the plus characters, otherwise the conversion will fail and raise an error."
   ]
  },
  {
   "cell_type": "code",
   "execution_count": 34,
   "metadata": {
    "collapsed": false
   },
   "outputs": [
    {
     "name": "stdout",
     "output_type": "stream",
     "text": [
      "PRODUCTIVITY : 16787331.344927534\n",
      "HOUSE_AND_HOME : 1331540.5616438356\n",
      "ART_AND_DESIGN : 1986335.0877192982\n",
      "FINANCE : 1387692.475609756\n",
      "TOOLS : 10801391.298666667\n",
      "VIDEO_PLAYERS : 24727872.452830188\n",
      "TRAVEL_AND_LOCAL : 13984077.710144928\n",
      "ENTERTAINMENT : 11640705.88235294\n",
      "COMICS : 817657.2727272727\n",
      "DATING : 854028.8303030303\n",
      "BOOKS_AND_REFERENCE : 8767811.894736841\n",
      "AUTO_AND_VEHICLES : 647317.8170731707\n",
      "FAMILY : 3695641.8198090694\n",
      "PERSONALIZATION : 5201482.6122448975\n",
      "SHOPPING : 7036877.311557789\n",
      "SOCIAL : 23253652.127118643\n",
      "LIFESTYLE : 1437816.2687861272\n",
      "EDUCATION : 1833495.145631068\n",
      "BEAUTY : 513151.88679245283\n",
      "NEWS_AND_MAGAZINES : 9549178.467741935\n",
      "GAME : 15588015.603248259\n",
      "LIBRARIES_AND_DEMO : 638503.734939759\n",
      "FOOD_AND_DRINK : 1924897.7363636363\n",
      "PARENTING : 542603.6206896552\n",
      "BUSINESS : 1712290.1474201474\n",
      "MAPS_AND_NAVIGATION : 4056941.7741935486\n",
      "SPORTS : 3638640.1428571427\n",
      "EVENTS : 253542.22222222222\n",
      "MEDICAL : 120550.61980830671\n",
      "WEATHER : 5074486.197183099\n",
      "COMMUNICATION : 38456119.167247385\n",
      "PHOTOGRAPHY : 17840110.40229885\n",
      "HEALTH_AND_FITNESS : 4188821.9853479853\n"
     ]
    }
   ],
   "source": [
    "category_andriod = freq_table(andriod_final, 1)\n",
    "\n",
    "for category in category_andriod:\n",
    "    total = 0\n",
    "    len_category = 0\n",
    "    \n",
    "    for app in andriod_final:\n",
    "        category_app = app[1]\n",
    "        if category_app == category:\n",
    "            n_installs = app[5]\n",
    "            n_installs = n_installs.replace('+', '')\n",
    "            n_installs = float(n_installs.replace(',', ''))\n",
    "            \n",
    "            total += n_installs\n",
    "            len_category += 1\n",
    "            \n",
    "    avg_n_installs = total / len_category\n",
    "    print(category, ':', avg_n_installs)"
   ]
  },
  {
   "cell_type": "markdown",
   "metadata": {},
   "source": [
    "On average, communication apps have the most installs: 38,456,119. This number is heavily skewed up by a few apps that have over one billion installs (WhatsApp, Facebook Messenger, Skype, Google Chrome, Gmail, and Hangouts), and a few others with over 100 and 500 million installs:"
   ]
  },
  {
   "cell_type": "code",
   "execution_count": 35,
   "metadata": {
    "collapsed": false
   },
   "outputs": [
    {
     "name": "stdout",
     "output_type": "stream",
     "text": [
      "WhatsApp Messenger : 1,000,000,000+\n",
      "imo beta free calls and text : 100,000,000+\n",
      "Android Messages : 100,000,000+\n",
      "Google Duo - High Quality Video Calls : 500,000,000+\n",
      "Messenger – Text and Video Chat for Free : 1,000,000,000+\n",
      "imo free video calls and chat : 500,000,000+\n",
      "Skype - free IM & video calls : 1,000,000,000+\n",
      "Who : 100,000,000+\n",
      "GO SMS Pro - Messenger, Free Themes, Emoji : 100,000,000+\n",
      "LINE: Free Calls & Messages : 500,000,000+\n",
      "Google Chrome: Fast & Secure : 1,000,000,000+\n",
      "Firefox Browser fast & private : 100,000,000+\n",
      "UC Browser - Fast Download Private & Secure : 500,000,000+\n",
      "Gmail : 1,000,000,000+\n",
      "Hangouts : 1,000,000,000+\n",
      "Messenger Lite: Free Calls & Messages : 100,000,000+\n",
      "Kik : 100,000,000+\n",
      "KakaoTalk: Free Calls & Text : 100,000,000+\n",
      "Opera Mini - fast web browser : 100,000,000+\n",
      "Opera Browser: Fast and Secure : 100,000,000+\n",
      "Telegram : 100,000,000+\n",
      "Truecaller: Caller ID, SMS spam blocking & Dialer : 100,000,000+\n",
      "UC Browser Mini -Tiny Fast Private & Secure : 100,000,000+\n",
      "Viber Messenger : 500,000,000+\n",
      "WeChat : 100,000,000+\n",
      "Yahoo Mail – Stay Organized : 100,000,000+\n",
      "BBM - Free Calls & Messages : 100,000,000+\n"
     ]
    }
   ],
   "source": [
    "for app in andriod_final:\n",
    "    if app[1] == 'COMMUNICATION' and (app[5] == '1,000,000,000+' or app[5] == '500,000,000+' or app[5] == '100,000,000+'):\n",
    "        print(app[0], ':', app[5])#app name and no of installs"
   ]
  },
  {
   "cell_type": "markdown",
   "metadata": {},
   "source": [
    "The books and reference genre looks fairly popular as well, with an average number of installs of 8,767,811. \n",
    "\n",
    "Let's take a look at some of the apps from this genre and their number of installs as this genre seem to look very profitable:"
   ]
  },
  {
   "cell_type": "code",
   "execution_count": 36,
   "metadata": {
    "collapsed": false
   },
   "outputs": [
    {
     "name": "stdout",
     "output_type": "stream",
     "text": [
      "E-Book Read - Read Book for free : 50,000+\n",
      "Download free book with green book : 100,000+\n",
      "Wikipedia : 10,000,000+\n",
      "Cool Reader : 10,000,000+\n",
      "Free Panda Radio Music : 100,000+\n",
      "Book store : 1,000,000+\n",
      "FBReader: Favorite Book Reader : 10,000,000+\n",
      "English Grammar Complete Handbook : 500,000+\n",
      "Free Books - Spirit Fanfiction and Stories : 1,000,000+\n",
      "Google Play Books : 1,000,000,000+\n",
      "AlReader -any text book reader : 5,000,000+\n",
      "Offline English Dictionary : 100,000+\n",
      "Offline: English to Tagalog Dictionary : 500,000+\n",
      "FamilySearch Tree : 1,000,000+\n",
      "Cloud of Books : 1,000,000+\n",
      "Recipes of Prophetic Medicine for free : 500,000+\n",
      "ReadEra – free ebook reader : 1,000,000+\n",
      "Anonymous caller detection : 10,000+\n",
      "Ebook Reader : 5,000,000+\n",
      "Litnet - E-books : 100,000+\n",
      "Read books online : 5,000,000+\n",
      "English to Urdu Dictionary : 500,000+\n",
      "eBoox: book reader fb2 epub zip : 1,000,000+\n",
      "English Persian Dictionary : 500,000+\n",
      "Flybook : 500,000+\n",
      "All Maths Formulas : 1,000,000+\n",
      "Ancestry : 5,000,000+\n",
      "HTC Help : 10,000,000+\n",
      "English translation from Bengali : 100,000+\n",
      "Pdf Book Download - Read Pdf Book : 100,000+\n",
      "Free Book Reader : 100,000+\n",
      "eBoox new: Reader for fb2 epub zip books : 50,000+\n",
      "Only 30 days in English, the guideline is guaranteed : 500,000+\n",
      "Moon+ Reader : 10,000,000+\n",
      "SH-02J Owner's Manual (Android 8.0) : 50,000+\n",
      "English-Myanmar Dictionary : 1,000,000+\n",
      "Golden Dictionary (EN-AR) : 1,000,000+\n",
      "All Language Translator Free : 1,000,000+\n",
      "Azpen eReader : 500,000+\n",
      "URBANO V 02 instruction manual : 100,000+\n",
      "Bible : 100,000,000+\n",
      "C Programs and Reference : 50,000+\n",
      "C Offline Tutorial : 1,000+\n",
      "C Programs Handbook : 50,000+\n",
      "Amazon Kindle : 100,000,000+\n",
      "Aab e Hayat Full Novel : 100,000+\n",
      "Aldiko Book Reader : 10,000,000+\n",
      "Google I/O 2018 : 500,000+\n",
      "R Language Reference Guide : 10,000+\n",
      "Learn R Programming Full : 5,000+\n",
      "R Programing Offline Tutorial : 1,000+\n",
      "Guide for R Programming : 5+\n",
      "Learn R Programming : 10+\n",
      "R Quick Reference Big Data : 1,000+\n",
      "V Made : 100,000+\n",
      "Wattpad 📖 Free Books : 100,000,000+\n",
      "Dictionary - WordWeb : 5,000,000+\n",
      "Guide (for X-MEN) : 100,000+\n",
      "AC Air condition Troubleshoot,Repair,Maintenance : 5,000+\n",
      "AE Bulletins : 1,000+\n",
      "Ae Allah na Dai (Rasa) : 10,000+\n",
      "50000 Free eBooks & Free AudioBooks : 5,000,000+\n",
      "Ag PhD Field Guide : 10,000+\n",
      "Ag PhD Deficiencies : 10,000+\n",
      "Ag PhD Planting Population Calculator : 1,000+\n",
      "Ag PhD Soybean Diseases : 1,000+\n",
      "Fertilizer Removal By Crop : 50,000+\n",
      "A-J Media Vault : 50+\n",
      "Al-Quran (Free) : 10,000,000+\n",
      "Al Quran (Tafsir & by Word) : 500,000+\n",
      "Al Quran Indonesia : 10,000,000+\n",
      "Al'Quran Bahasa Indonesia : 10,000,000+\n",
      "Al Quran Al karim : 1,000,000+\n",
      "Al-Muhaffiz : 50,000+\n",
      "Al Quran : EAlim - Translations & MP3 Offline : 5,000,000+\n",
      "Al-Quran 30 Juz free copies : 500,000+\n",
      "Koran Read &MP3 30 Juz Offline : 1,000,000+\n",
      "Hafizi Quran 15 lines per page : 1,000,000+\n",
      "Quran for Android : 10,000,000+\n",
      "Surah Al-Waqiah : 100,000+\n",
      "Hisnul Al Muslim - Hisn Invocations & Adhkaar : 100,000+\n",
      "Satellite AR : 1,000,000+\n",
      "Audiobooks from Audible : 100,000,000+\n",
      "Kinot & Eichah for Tisha B'Av : 10,000+\n",
      "AW Tozer Devotionals - Daily : 5,000+\n",
      "Tozer Devotional -Series 1 : 1,000+\n",
      "The Pursuit of God : 1,000+\n",
      "AY Sing : 5,000+\n",
      "Ay Hasnain k Nana Milad Naat : 10,000+\n",
      "Ay Mohabbat Teri Khatir Novel : 10,000+\n",
      "Arizona Statutes, ARS (AZ Law) : 1,000+\n",
      "Oxford A-Z of English Usage : 1,000,000+\n",
      "BD Fishpedia : 1,000+\n",
      "BD All Sim Offer : 10,000+\n",
      "Youboox - Livres, BD et magazines : 500,000+\n",
      "B&H Kids AR : 10,000+\n",
      "B y H Niños ES : 5,000+\n",
      "Dictionary.com: Find Definitions for English Words : 10,000,000+\n",
      "English Dictionary - Offline : 10,000,000+\n",
      "Bible KJV : 5,000,000+\n",
      "Borneo Bible, BM Bible : 10,000+\n",
      "MOD Black for BM : 100+\n",
      "BM Box : 1,000+\n",
      "Anime Mod for BM : 100+\n",
      "NOOK: Read eBooks & Magazines : 10,000,000+\n",
      "NOOK Audiobooks : 500,000+\n",
      "NOOK App for NOOK Devices : 500,000+\n",
      "Browsery by Barnes & Noble : 5,000+\n",
      "bp e-store : 1,000+\n",
      "Brilliant Quotes: Life, Love, Family & Motivation : 1,000,000+\n",
      "BR Ambedkar Biography & Quotes : 10,000+\n",
      "BU Alsace : 100+\n",
      "Catholic La Bu Zo Kam : 500+\n",
      "Khrifa Hla Bu (Solfa) : 10+\n",
      "Kristian Hla Bu : 10,000+\n",
      "SA HLA BU : 1,000+\n",
      "Learn SAP BW : 500+\n",
      "Learn SAP BW on HANA : 500+\n",
      "CA Laws 2018 (California Laws and Codes) : 5,000+\n",
      "Bootable Methods(USB-CD-DVD) : 10,000+\n",
      "cloudLibrary : 100,000+\n",
      "SDA Collegiate Quarterly : 500+\n",
      "Sabbath School : 100,000+\n",
      "Cypress College Library : 100+\n",
      "Stats Royale for Clash Royale : 1,000,000+\n",
      "GATE 21 years CS Papers(2011-2018 Solved) : 50+\n",
      "Learn CT Scan Of Head : 5,000+\n",
      "Easy Cv maker 2018 : 10,000+\n",
      "How to Write CV : 100,000+\n",
      "CW Nuclear : 1,000+\n",
      "CY Spray nozzle : 10+\n",
      "BibleRead En Cy Zh Yue : 5+\n",
      "CZ-Help : 5+\n",
      "Modlitební knížka CZ : 500+\n",
      "Guide for DB Xenoverse : 10,000+\n",
      "Guide for DB Xenoverse 2 : 10,000+\n",
      "Guide for IMS DB : 10+\n",
      "DC HSEMA : 5,000+\n",
      "DC Public Library : 1,000+\n",
      "Painting Lulu DC Super Friends : 1,000+\n",
      "Dictionary : 10,000,000+\n",
      "Fix Error Google Playstore : 1,000+\n",
      "D. H. Lawrence Poems FREE : 1,000+\n",
      "Bilingual Dictionary Audio App : 5,000+\n",
      "DM Screen : 10,000+\n",
      "wikiHow: how to do anything : 1,000,000+\n",
      "Dr. Doug's Tips : 1,000+\n",
      "Bible du Semeur-BDS (French) : 50,000+\n",
      "La citadelle du musulman : 50,000+\n",
      "DV 2019 Entry Guide : 10,000+\n",
      "DV 2019 - EDV Photo & Form : 50,000+\n",
      "DV 2018 Winners Guide : 1,000+\n",
      "EB Annual Meetings : 1,000+\n",
      "EC - AP & Telangana : 5,000+\n",
      "TN Patta Citta & EC : 10,000+\n",
      "AP Stamps and Registration : 10,000+\n",
      "CompactiMa EC pH Calibration : 100+\n",
      "EGW Writings 2 : 100,000+\n",
      "EGW Writings : 1,000,000+\n",
      "Bible with EGW Comments : 100,000+\n",
      "My Little Pony AR Guide : 1,000,000+\n",
      "SDA Sabbath School Quarterly : 500,000+\n",
      "Duaa Ek Ibaadat : 5,000+\n",
      "Spanish English Translator : 10,000,000+\n",
      "Dictionary - Merriam-Webster : 10,000,000+\n",
      "JW Library : 10,000,000+\n",
      "Oxford Dictionary of English : Free : 10,000,000+\n",
      "English Hindi Dictionary : 10,000,000+\n",
      "English to Hindi Dictionary : 5,000,000+\n",
      "EP Research Service : 1,000+\n",
      "Hymnes et Louanges : 100,000+\n",
      "EU Charter : 1,000+\n",
      "EU Data Protection : 1,000+\n",
      "EU IP Codes : 100+\n",
      "EW PDF : 5+\n",
      "BakaReader EX : 100,000+\n",
      "EZ Quran : 50,000+\n",
      "FA Part 1 & 2 Past Papers Solved Free – Offline : 5,000+\n",
      "La Fe de Jesus : 1,000+\n",
      "La Fe de Jesús : 500+\n",
      "Le Fe de Jesus : 500+\n",
      "Florida - Pocket Brainbook : 1,000+\n",
      "Florida Statutes (FL Code) : 1,000+\n",
      "English To Shona Dictionary : 10,000+\n",
      "Greek Bible FP (Audio) : 1,000+\n",
      "Golden Dictionary (FR-AR) : 500,000+\n",
      "Fanfic-FR : 5,000+\n",
      "Bulgarian French Dictionary Fr : 10,000+\n",
      "Chemin (fr) : 1,000+\n",
      "The SCP Foundation DB fr nn5n : 1,000+\n"
     ]
    }
   ],
   "source": [
    "for app in andriod_final:\n",
    "    if app[1] == 'BOOKS_AND_REFERENCE':\n",
    "        print(app[0], ':', app[5])    #name of app and no of installs"
   ]
  },
  {
   "cell_type": "markdown",
   "metadata": {},
   "source": [
    "The book and reference genre includes  alot of software for processing and reading ebooks, various collections of libraries, dictionaries, tutorials on programming or languages, etc. \n",
    "\n",
    "lets bring out the most popular apps that influence the high numbers of the genre average."
   ]
  },
  {
   "cell_type": "code",
   "execution_count": 37,
   "metadata": {
    "collapsed": false
   },
   "outputs": [
    {
     "name": "stdout",
     "output_type": "stream",
     "text": [
      "Google Play Books : 1,000,000,000+\n",
      "Bible : 100,000,000+\n",
      "Amazon Kindle : 100,000,000+\n",
      "Wattpad 📖 Free Books : 100,000,000+\n",
      "Audiobooks from Audible : 100,000,000+\n"
     ]
    }
   ],
   "source": [
    "for app in andriod_final:\n",
    "    if app[1] == 'BOOKS_AND_REFERENCE' and (app[5] == '1,000,000,000+' or app[5] == '500,000,000+' or app[5] == '100,000,000+'):\n",
    "        print(app[0], ':', app[5])  #app name and no of installs\n",
    "    "
   ]
  },
  {
   "cell_type": "markdown",
   "metadata": {},
   "source": [
    "it seems like there are only a few very popular apps with over `100,000,000+` that still shows potential. \n",
    "\n",
    "Let's try to find out the popularity of apps (between 1,000,000 and 100,000,000 downloads):"
   ]
  },
  {
   "cell_type": "code",
   "execution_count": 38,
   "metadata": {
    "collapsed": false
   },
   "outputs": [
    {
     "name": "stdout",
     "output_type": "stream",
     "text": [
      "Wikipedia : 10,000,000+\n",
      "Cool Reader : 10,000,000+\n",
      "Book store : 1,000,000+\n",
      "FBReader: Favorite Book Reader : 10,000,000+\n",
      "Free Books - Spirit Fanfiction and Stories : 1,000,000+\n",
      "AlReader -any text book reader : 5,000,000+\n",
      "FamilySearch Tree : 1,000,000+\n",
      "Cloud of Books : 1,000,000+\n",
      "ReadEra – free ebook reader : 1,000,000+\n",
      "Ebook Reader : 5,000,000+\n",
      "Read books online : 5,000,000+\n",
      "eBoox: book reader fb2 epub zip : 1,000,000+\n",
      "All Maths Formulas : 1,000,000+\n",
      "Ancestry : 5,000,000+\n",
      "HTC Help : 10,000,000+\n",
      "Moon+ Reader : 10,000,000+\n",
      "English-Myanmar Dictionary : 1,000,000+\n",
      "Golden Dictionary (EN-AR) : 1,000,000+\n",
      "All Language Translator Free : 1,000,000+\n",
      "Aldiko Book Reader : 10,000,000+\n",
      "Dictionary - WordWeb : 5,000,000+\n",
      "50000 Free eBooks & Free AudioBooks : 5,000,000+\n",
      "Al-Quran (Free) : 10,000,000+\n",
      "Al Quran Indonesia : 10,000,000+\n",
      "Al'Quran Bahasa Indonesia : 10,000,000+\n",
      "Al Quran Al karim : 1,000,000+\n",
      "Al Quran : EAlim - Translations & MP3 Offline : 5,000,000+\n",
      "Koran Read &MP3 30 Juz Offline : 1,000,000+\n",
      "Hafizi Quran 15 lines per page : 1,000,000+\n",
      "Quran for Android : 10,000,000+\n",
      "Satellite AR : 1,000,000+\n",
      "Oxford A-Z of English Usage : 1,000,000+\n",
      "Dictionary.com: Find Definitions for English Words : 10,000,000+\n",
      "English Dictionary - Offline : 10,000,000+\n",
      "Bible KJV : 5,000,000+\n",
      "NOOK: Read eBooks & Magazines : 10,000,000+\n",
      "Brilliant Quotes: Life, Love, Family & Motivation : 1,000,000+\n",
      "Stats Royale for Clash Royale : 1,000,000+\n",
      "Dictionary : 10,000,000+\n",
      "wikiHow: how to do anything : 1,000,000+\n",
      "EGW Writings : 1,000,000+\n",
      "My Little Pony AR Guide : 1,000,000+\n",
      "Spanish English Translator : 10,000,000+\n",
      "Dictionary - Merriam-Webster : 10,000,000+\n",
      "JW Library : 10,000,000+\n",
      "Oxford Dictionary of English : Free : 10,000,000+\n",
      "English Hindi Dictionary : 10,000,000+\n",
      "English to Hindi Dictionary : 5,000,000+\n"
     ]
    }
   ],
   "source": [
    "for app in andriod_final:\n",
    "    if app[1] == 'BOOKS_AND_REFERENCE' and (app[5] == '1,000,000+' or app[5] == '5,000,000+' or app[5] == '10,000,000+' or app[5] == '50,000,000+'):\n",
    "        print(app[0], ':', app[5])"
   ]
  },
  {
   "cell_type": "markdown",
   "metadata": {},
   "source": [
    "The outcome of the above result shows that there are alot of dictionaries, ebooks e.t.c. and building an app on ebooks will look competitive.\n",
    "\n",
    "We also notice there are quite a few apps built around the dictionary, which suggests that building an app around a dictionary that can also incorporate different translators for different languages can be profitable for both the Google Play and the App Store markets."
   ]
  },
  {
   "cell_type": "markdown",
   "metadata": {},
   "source": [
    "## CONCULSION\n",
    "\n",
    "After analyzing data for both the App Store and Google Play mobile apps with the aim of recommending an app profile that can be profitable for both markets, we have concluded that adding another application that seem popular e.g language translator to a popular dictionary can be profitable for both App Store and Google play Markets.\n"
   ]
  }
 ],
 "metadata": {
  "kernelspec": {
   "display_name": "Python 3",
   "language": "python",
   "name": "python3"
  },
  "language_info": {
   "codemirror_mode": {
    "name": "ipython",
    "version": 3
   },
   "file_extension": ".py",
   "mimetype": "text/x-python",
   "name": "python",
   "nbconvert_exporter": "python",
   "pygments_lexer": "ipython3",
   "version": "3.4.3"
  }
 },
 "nbformat": 4,
 "nbformat_minor": 2
}
